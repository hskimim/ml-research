{
 "cells": [
  {
   "cell_type": "code",
   "execution_count": 72,
   "metadata": {},
   "outputs": [],
   "source": [
    "from jupyterthemes import jtplot\n",
    "jtplot.style(theme='solarizedl', context='notebook', ticks=True, grid=False, figsize=(10,6))"
   ]
  },
  {
   "cell_type": "code",
   "execution_count": 69,
   "metadata": {},
   "outputs": [],
   "source": [
    "import numpy as np\n",
    "import pandas as pd\n",
    "from datetime import datetime\n",
    "from collections import OrderedDict, defaultdict\n",
    "\n",
    "import torch\n",
    "import torch.nn as nn\n",
    "import torch.optim as optim\n",
    "from torchsummary import summary as summary_\n",
    "import torchvision\n",
    "import torchvision.transforms as transforms\n",
    "\n",
    "import data_loader\n",
    "import utils\n",
    "import calibration\n",
    "import train as t"
   ]
  },
  {
   "cell_type": "code",
   "execution_count": 51,
   "metadata": {},
   "outputs": [],
   "source": [
    "import calibration\n",
    "uniform_calib_mean = calibration.CalibrationLoss()\n",
    "uniform_calib_max = calibration.CalibrationLoss(func='max')\n",
    "quantile_calib_mean = calibration.CalibrationLoss(strategy='quantile')\n",
    "quantile_calib_max = calibration.CalibrationLoss(strategy='quantile', func='max')"
   ]
  },
  {
   "cell_type": "code",
   "execution_count": 98,
   "metadata": {},
   "outputs": [
    {
     "name": "stdout",
     "output_type": "stream",
     "text": [
      "Files already downloaded and verified\n",
      "Files already downloaded and verified\n"
     ]
    }
   ],
   "source": [
    "trainloader, validloader = data_loader.get_train_valid_loader(data_dir='./data',\n",
    "                           batch_size=512,\n",
    "                           augment=True,\n",
    "                           random_seed=42,\n",
    "                           valid_size=0.1,\n",
    "                           shuffle=False,\n",
    "                           show_sample=False,\n",
    "                           num_workers=4,\n",
    "                           pin_memory=False)"
   ]
  },
  {
   "cell_type": "code",
   "execution_count": 41,
   "metadata": {},
   "outputs": [
    {
     "name": "stderr",
     "output_type": "stream",
     "text": [
      "Using cache found in /home/hyunsikkim/.cache/torch/hub/pytorch_vision_v0.10.0\n"
     ]
    }
   ],
   "source": [
    "model = torch.hub.load('pytorch/vision:v0.10.0', 'resnet18', pretrained=True)\n",
    "device = 'cuda:0' if torch.cuda.is_available() else 'cpu'\n",
    "criterion = nn.CrossEntropyLoss()"
   ]
  },
  {
   "cell_type": "code",
   "execution_count": 42,
   "metadata": {},
   "outputs": [],
   "source": [
    "def load_model(modelname, model_path) : \n",
    "    model = torch.hub.load('pytorch/vision:v0.10.0', modelname, pretrained=True)\n",
    "    hidden_size = model.fc.weight.shape[1]\n",
    "    model.fc = nn.Linear(hidden_size, len(utils.label_names))\n",
    "\n",
    "    state_dict = torch.load(model_path)\n",
    "    adj_state_dict = OrderedDict()\n",
    "    for k,v in state_dict.items() : \n",
    "        adj_state_dict[k.replace(\"module.\",'')] = v\n",
    "\n",
    "    model.load_state_dict(adj_state_dict)\n",
    "    model = model.eval().to(device)\n",
    "    return model"
   ]
  },
  {
   "cell_type": "code",
   "execution_count": 99,
   "metadata": {},
   "outputs": [
    {
     "name": "stderr",
     "output_type": "stream",
     "text": [
      "Using cache found in /home/hyunsikkim/.cache/torch/hub/pytorch_vision_v0.10.0\n"
     ]
    }
   ],
   "source": [
    "model = load_model('resnet18', 'models/resnet18.20211121.pt')\n",
    "model = model.eval()"
   ]
  },
  {
   "cell_type": "code",
   "execution_count": 100,
   "metadata": {},
   "outputs": [],
   "source": [
    "def inference(testloader, device, model, criterion) : \n",
    "    umean_container = list()\n",
    "    umax_container = list()\n",
    "    qmean_container = list()\n",
    "    qmax_container = list()\n",
    "    loss_container = list()\n",
    "    acc_container = list()\n",
    "    model.eval()\n",
    "    for inputs, labels in testloader :\n",
    "\n",
    "        inputs, labels = inputs.to(device), labels.to(device)\n",
    "\n",
    "        outputs = model(inputs)\n",
    "\n",
    "        predictions = outputs.argmax(1)\n",
    "        acc = (outputs.argmax(1).eq(labels).sum() / outputs.shape[0]).item()\n",
    "\n",
    "        loss = criterion(outputs, labels)\n",
    "\n",
    "        loss_container.append(loss.item())\n",
    "        acc_container.append(acc)\n",
    "\n",
    "        prob, true = torch.softmax(outputs, dim=1).cpu().data.numpy(), labels.cpu().data.numpy()\n",
    "\n",
    "        ece = uniform_calib_mean.calculate_ce(prob, true)\n",
    "        umean_container.append(ece)\n",
    "\n",
    "        ece = uniform_calib_max.calculate_ce(prob, true)\n",
    "        umax_container.append(ece)\n",
    "\n",
    "        ece = quantile_calib_mean.calculate_ce(prob, true)\n",
    "        qmean_container.append(ece)\n",
    "\n",
    "        ece = quantile_calib_max.calculate_ce(prob, true)\n",
    "        qmax_container.append(ece)\n",
    "\n",
    "    test_loss = np.mean(loss_container)\n",
    "    test_acc = np.mean(acc_container)\n",
    "    test_umean = np.mean(umean_container)\n",
    "    test_umax = np.mean(umax_container)\n",
    "    test_qmean = np.mean(qmean_container)\n",
    "    test_qmax = np.mean(qmax_container)\n",
    "    \n",
    "    return test_loss, test_acc, test_umean, test_umax, test_qmean, test_qmax"
   ]
  },
  {
   "cell_type": "code",
   "execution_count": 101,
   "metadata": {},
   "outputs": [],
   "source": [
    "pretrained_weight = model.fc.weight.clone()\n",
    "container = list()\n",
    "\n",
    "for i in range(0,10+1) : \n",
    "    \n",
    "    ts_coef_ = 1+i/10\n",
    "    \n",
    "    with torch.no_grad():\n",
    "        model.fc.weight = nn.Parameter(pretrained_weight)\n",
    "\n",
    "    with torch.no_grad():\n",
    "        model.fc.weight = nn.Parameter(model.fc.weight/ts_coef_)\n",
    "        \n",
    "    loss, acc, umean, umax, qmean, qmax = inference(validloader, device, model, criterion)\n",
    "    container.append((loss, acc, umean, umax, qmean, qmax))"
   ]
  },
  {
   "cell_type": "code",
   "execution_count": 102,
   "metadata": {},
   "outputs": [],
   "source": [
    "df = pd.DataFrame(container, columns=['loss', 'acc', 'umean', 'umax', 'qmean', 'qmax'], index=[1+i/10 for i in range(0,10+1)])"
   ]
  },
  {
   "cell_type": "code",
   "execution_count": 109,
   "metadata": {},
   "outputs": [
    {
     "data": {
      "text/plain": [
       "<AxesSubplot:>"
      ]
     },
     "execution_count": 109,
     "metadata": {},
     "output_type": "execute_result"
    },
    {
     "data": {
      "image/png": "[encoded data removed]",
      "text/plain": [
       "<Figure size 720x432 with 1 Axes>"
      ]
     },
     "metadata": {},
     "output_type": "display_data"
    }
   ],
   "source": [
    "df.iloc[:,[0,2,3,4,5]].plot.bar() # exclude acc"
   ]
  },
  {
   "cell_type": "code",
   "execution_count": 103,
   "metadata": {
    "scrolled": false
   },
   "outputs": [
    {
     "data": {
      "text/plain": [
       "array([0, 3, 0, 3, 0, 0])"
      ]
     },
     "execution_count": 103,
     "metadata": {},
     "output_type": "execute_result"
    }
   ],
   "source": [
    "np.argmin(df.values, axis=0)"
   ]
  }
 ],
 "metadata": {
  "kernelspec": {
   "display_name": "Python 3",
   "language": "python",
   "name": "python3"
  },
  "language_info": {
   "codemirror_mode": {
    "name": "ipython",
    "version": 3
   },
   "file_extension": ".py",
   "mimetype": "text/x-python",
   "name": "python",
   "nbconvert_exporter": "python",
   "pygments_lexer": "ipython3",
   "version": "3.8.5"
  }
 },
 "nbformat": 4,
 "nbformat_minor": 4
}

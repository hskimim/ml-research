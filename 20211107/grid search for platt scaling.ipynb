{
 "cells": [
  {
   "cell_type": "code",
   "execution_count": 2,
   "metadata": {},
   "outputs": [],
   "source": [
    "from jupyterthemes import jtplot\n",
    "jtplot.style(theme='solarizedl', context='notebook', ticks=True, grid=False, figsize=(10,6))"
   ]
  },
  {
   "cell_type": "code",
   "execution_count": 3,
   "metadata": {},
   "outputs": [],
   "source": [
    "import numpy as np\n",
    "import pandas as pd\n",
    "from datetime import datetime\n",
    "from collections import OrderedDict, defaultdict\n",
    "\n",
    "from sklearn.linear_model import LogisticRegression\n",
    "\n",
    "import torch\n",
    "import torch.nn as nn\n",
    "import torch.optim as optim\n",
    "from torchsummary import summary as summary_\n",
    "import torchvision\n",
    "import torchvision.transforms as transforms\n",
    "\n",
    "import data_loader\n",
    "import utils\n",
    "import calibration\n",
    "import train as t"
   ]
  },
  {
   "cell_type": "code",
   "execution_count": 4,
   "metadata": {},
   "outputs": [
    {
     "name": "stdout",
     "output_type": "stream",
     "text": [
      "Files already downloaded and verified\n",
      "Files already downloaded and verified\n"
     ]
    }
   ],
   "source": [
    "trainloader, validloader = data_loader.get_train_valid_loader(data_dir='./data',\n",
    "                           batch_size=512,\n",
    "                           augment=True,\n",
    "                           random_seed=42,\n",
    "                           valid_size=0.1,\n",
    "                           shuffle=False,\n",
    "                           show_sample=False,\n",
    "                           num_workers=4,\n",
    "                           pin_memory=False)"
   ]
  },
  {
   "cell_type": "code",
   "execution_count": 5,
   "metadata": {},
   "outputs": [
    {
     "name": "stderr",
     "output_type": "stream",
     "text": [
      "Using cache found in /home/hyunsikkim/.cache/torch/hub/pytorch_vision_v0.10.0\n"
     ]
    }
   ],
   "source": [
    "model = torch.hub.load('pytorch/vision:v0.10.0', 'resnet18', pretrained=True)\n",
    "device = 'cuda:0' if torch.cuda.is_available() else 'cpu'\n",
    "criterion = nn.CrossEntropyLoss()"
   ]
  },
  {
   "cell_type": "code",
   "execution_count": 6,
   "metadata": {},
   "outputs": [],
   "source": [
    "def load_model(modelname, model_path) : \n",
    "    model = torch.hub.load('pytorch/vision:v0.10.0', modelname, pretrained=True)\n",
    "    hidden_size = model.fc.weight.shape[1]\n",
    "    model.fc = nn.Linear(hidden_size, len(utils.label_names))\n",
    "\n",
    "    state_dict = torch.load(model_path)\n",
    "    adj_state_dict = OrderedDict()\n",
    "    for k,v in state_dict.items() : \n",
    "        adj_state_dict[k.replace(\"module.\",'')] = v\n",
    "\n",
    "    model.load_state_dict(adj_state_dict)\n",
    "    model = model.eval().to(device)\n",
    "    return model"
   ]
  },
  {
   "cell_type": "code",
   "execution_count": 7,
   "metadata": {},
   "outputs": [
    {
     "name": "stderr",
     "output_type": "stream",
     "text": [
      "Using cache found in /home/hyunsikkim/.cache/torch/hub/pytorch_vision_v0.10.0\n"
     ]
    }
   ],
   "source": [
    "model = load_model('resnet18', 'models/resnet18.20211121.pt')\n",
    "model = model.eval()"
   ]
  },
  {
   "cell_type": "code",
   "execution_count": 8,
   "metadata": {},
   "outputs": [],
   "source": [
    "def inference(testloader, device, model, criterion) : \n",
    "    prob_container, true_container = list(), list()\n",
    "    model.eval()\n",
    "    for inputs, labels in testloader :\n",
    "\n",
    "        inputs, labels = inputs.to(device), labels.to(device)\n",
    "\n",
    "        outputs = model(inputs)\n",
    "\n",
    "        predictions = outputs.argmax(1)\n",
    "        acc = (outputs.argmax(1).eq(labels).sum() / outputs.shape[0]).item()\n",
    "\n",
    "        loss = criterion(outputs, labels)\n",
    "\n",
    "        prob, true = torch.softmax(outputs, dim=1).cpu().data.numpy(), labels.cpu().data.numpy()\n",
    "\n",
    "        prob_container.append(prob)\n",
    "        true_container.append(true)\n",
    "        \n",
    "    return np.concatenate(prob_container), np.concatenate(true_container)"
   ]
  },
  {
   "cell_type": "code",
   "execution_count": 9,
   "metadata": {},
   "outputs": [
    {
     "name": "stderr",
     "output_type": "stream",
     "text": [
      "/home/hfcp/anaconda3/lib/python3.8/site-packages/torch/nn/functional.py:718: UserWarning: Named tensors and all their associated APIs are an experimental feature and subject to change. Please do not use them for anything important until they are released as stable. (Triggered internally at  /pytorch/c10/core/TensorImpl.h:1156.)\n",
      "  return torch.max_pool2d(input, kernel_size, stride, padding, dilation, ceil_mode)\n"
     ]
    }
   ],
   "source": [
    "prob, true = inference(validloader, device, model, criterion)"
   ]
  },
  {
   "cell_type": "code",
   "execution_count": 10,
   "metadata": {},
   "outputs": [],
   "source": [
    "import calibration\n",
    "uniform_calib_mean = calibration.CalibrationLoss()\n",
    "uniform_calib_max = calibration.CalibrationLoss(func='max')\n",
    "quantile_calib_mean = calibration.CalibrationLoss(strategy='quantile')\n",
    "quantile_calib_max = calibration.CalibrationLoss(strategy='quantile', func='max')\n",
    "\n",
    "baseline_perf = [uniform_calib_mean.calculate_ce(prob, true), uniform_calib_max.calculate_ce(prob, true),\\\n",
    "quantile_calib_mean.calculate_ce(prob, true), quantile_calib_max.calculate_ce(prob, true)]"
   ]
  },
  {
   "cell_type": "code",
   "execution_count": 11,
   "metadata": {},
   "outputs": [],
   "source": [
    "recalibration_clf = LogisticRegression().fit(prob, true)\n",
    "calibrated_prob = recalibration_clf.predict_proba(prob)"
   ]
  },
  {
   "cell_type": "code",
   "execution_count": 12,
   "metadata": {},
   "outputs": [],
   "source": [
    "import calibration\n",
    "uniform_calib_mean = calibration.CalibrationLoss()\n",
    "uniform_calib_max = calibration.CalibrationLoss(func='max')\n",
    "quantile_calib_mean = calibration.CalibrationLoss(strategy='quantile')\n",
    "quantile_calib_max = calibration.CalibrationLoss(strategy='quantile', func='max')\n",
    "\n",
    "calibrated_perf = [uniform_calib_mean.calculate_ce(calibrated_prob, true), uniform_calib_max.calculate_ce(calibrated_prob, true),\\\n",
    "quantile_calib_mean.calculate_ce(calibrated_prob, true), quantile_calib_max.calculate_ce(calibrated_prob, true)]"
   ]
  },
  {
   "cell_type": "code",
   "execution_count": 13,
   "metadata": {},
   "outputs": [],
   "source": [
    "df = pd.DataFrame([baseline_perf, calibrated_perf], columns=['umean', 'umax', 'qmean', 'qmax'])"
   ]
  },
  {
   "cell_type": "code",
   "execution_count": 14,
   "metadata": {},
   "outputs": [
    {
     "data": {
      "text/plain": [
       "<AxesSubplot:>"
      ]
     },
     "execution_count": 14,
     "metadata": {},
     "output_type": "execute_result"
    },
    {
     "data": {
      "image/png": "[encoded data removed]",
      "text/plain": [
       "<Figure size 432x288 with 1 Axes>"
      ]
     },
     "metadata": {},
     "output_type": "display_data"
    }
   ],
   "source": [
    "df.plot.bar()"
   ]
  },
  {
   "cell_type": "code",
   "execution_count": null,
   "metadata": {},
   "outputs": [],
   "source": [
    "pd.to_pickle(recalibration_clf, \"sigmoid_calibrator.pickle\")"
   ]
  }
 ],
 "metadata": {
  "kernelspec": {
   "display_name": "Python 3",
   "language": "python",
   "name": "python3"
  },
  "language_info": {
   "codemirror_mode": {
    "name": "ipython",
    "version": 3
   },
   "file_extension": ".py",
   "mimetype": "text/x-python",
   "name": "python",
   "nbconvert_exporter": "python",
   "pygments_lexer": "ipython3",
   "version": "3.8.5"
  }
 },
 "nbformat": 4,
 "nbformat_minor": 4
}

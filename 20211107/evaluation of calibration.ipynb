{
 "cells": [
  {
   "cell_type": "code",
   "execution_count": 1,
   "metadata": {},
   "outputs": [],
   "source": [
    "from jupyterthemes import jtplot\n",
    "jtplot.style(theme='solarizedl', context='notebook', ticks=True, grid=False, figsize=(10,6))"
   ]
  },
  {
   "cell_type": "code",
   "execution_count": 2,
   "metadata": {},
   "outputs": [],
   "source": [
    "from glob import glob\n",
    "import os\n",
    "import matplotlib.pyplot as plt\n",
    "\n",
    "from tqdm.notebook import tqdm\n",
    "import numpy as np\n",
    "import pandas as pd\n",
    "from datetime import datetime\n",
    "from collections import OrderedDict, defaultdict\n",
    "\n",
    "import torch\n",
    "import torch.nn as nn\n",
    "import torch.optim as optim\n",
    "from torchsummary import summary as summary_\n",
    "import torchvision\n",
    "import torchvision.transforms as transforms\n",
    "\n",
    "import data_loader\n",
    "import utils\n",
    "import calibration\n",
    "import train as t\n",
    "\n",
    "import calibration\n",
    "uniform_calib_mean = calibration.CalibrationLoss()\n",
    "uniform_calib_max = calibration.CalibrationLoss(func='max')\n",
    "quantile_calib_mean = calibration.CalibrationLoss(strategy='quantile')\n",
    "quantile_calib_max = calibration.CalibrationLoss(strategy='quantile', func='max')"
   ]
  },
  {
   "cell_type": "code",
   "execution_count": 3,
   "metadata": {},
   "outputs": [
    {
     "name": "stdout",
     "output_type": "stream",
     "text": [
      "Files already downloaded and verified\n"
     ]
    }
   ],
   "source": [
    "testloader = data_loader.get_test_loader(\n",
    "                    data_dir='./data',\n",
    "                    batch_size=32,\n",
    "                    shuffle=False,\n",
    "                    num_workers=4,\n",
    "                    pin_memory=False,\n",
    "                )\n",
    "\n",
    "device = 'cuda:0' if torch.cuda.is_available() else 'cpu'\n",
    "criterion = nn.CrossEntropyLoss()"
   ]
  },
  {
   "cell_type": "code",
   "execution_count": 4,
   "metadata": {},
   "outputs": [],
   "source": [
    "def load_model(modelname, model_path) : \n",
    "    model = torch.hub.load('pytorch/vision:v0.10.0', modelname, pretrained=True)\n",
    "    hidden_size = model.fc.weight.shape[1]\n",
    "    model.fc = nn.Linear(hidden_size, len(utils.label_names))\n",
    "\n",
    "    state_dict = torch.load(model_path)\n",
    "    adj_state_dict = OrderedDict()\n",
    "    for k,v in state_dict.items() : \n",
    "        adj_state_dict[k.replace(\"module.\",'')] = v\n",
    "\n",
    "    model.load_state_dict(adj_state_dict)\n",
    "    model = model.eval().to(device)\n",
    "    return model\n",
    "\n",
    "def inference(testloader, device, model, criterion) : \n",
    "    umean_container = list()\n",
    "    umax_container = list()\n",
    "    qmean_container = list()\n",
    "    qmax_container = list()\n",
    "    loss_container = list()\n",
    "    acc_container = list()\n",
    "\n",
    "    for inputs, labels in tqdm(testloader) :\n",
    "\n",
    "        inputs, labels = inputs.to(device), labels.to(device)\n",
    "\n",
    "        outputs = model(inputs)\n",
    "\n",
    "        predictions = outputs.argmax(1)\n",
    "        acc = (outputs.argmax(1).eq(labels).sum() / outputs.shape[0]).item()\n",
    "\n",
    "        loss = criterion(outputs, labels)\n",
    "\n",
    "        loss_container.append(loss.item())\n",
    "        acc_container.append(acc)\n",
    "\n",
    "        prob, true = torch.softmax(outputs, dim=1).cpu().data.numpy(), labels.cpu().data.numpy()\n",
    "\n",
    "        ece = uniform_calib_mean.calculate_ce(prob, true)\n",
    "        umean_container.append(ece)\n",
    "\n",
    "        ece = uniform_calib_max.calculate_ce(prob, true)\n",
    "        umax_container.append(ece)\n",
    "\n",
    "        ece = quantile_calib_mean.calculate_ce(prob, true)\n",
    "        qmean_container.append(ece)\n",
    "\n",
    "        ece = quantile_calib_max.calculate_ce(prob, true)\n",
    "        qmax_container.append(ece)\n",
    "\n",
    "    test_loss = np.mean(loss_container)\n",
    "    test_acc = np.mean(acc_container)\n",
    "    test_umean = np.mean(umean_container)\n",
    "    test_umax = np.mean(umax_container)\n",
    "    test_qmean = np.mean(qmean_container)\n",
    "    test_qmax = np.mean(qmax_container)\n",
    "    \n",
    "    return test_loss, test_acc, test_umean, test_umax, test_qmean, test_qmax"
   ]
  },
  {
   "cell_type": "code",
   "execution_count": 5,
   "metadata": {},
   "outputs": [],
   "source": [
    "modelname_iter = map(lambda x : os.path.basename(x).split(\"_\")[0].split(\".\")[0], glob('models/*'))\n",
    "data = list(zip(modelname_iter, glob(\"models/*\")))"
   ]
  },
  {
   "cell_type": "code",
   "execution_count": 6,
   "metadata": {
    "scrolled": true
   },
   "outputs": [
    {
     "name": "stderr",
     "output_type": "stream",
     "text": [
      "Using cache found in /home/hyunsikkim/.cache/torch/hub/pytorch_vision_v0.10.0\n"
     ]
    },
    {
     "data": {
      "application/vnd.jupyter.widget-view+json": {
       "model_id": "11b4d4e3ab9b42e6899198dd4d03aa8e",
       "version_major": 2,
       "version_minor": 0
      },
      "text/plain": [
       "HBox(children=(HTML(value=''), FloatProgress(value=0.0, max=313.0), HTML(value='')))"
      ]
     },
     "metadata": {},
     "output_type": "display_data"
    },
    {
     "name": "stderr",
     "output_type": "stream",
     "text": [
      "/home/hfcp/anaconda3/lib/python3.8/site-packages/torch/nn/functional.py:718: UserWarning: Named tensors and all their associated APIs are an experimental feature and subject to change. Please do not use them for anything important until they are released as stable. (Triggered internally at  /pytorch/c10/core/TensorImpl.h:1156.)\n",
      "  return torch.max_pool2d(input, kernel_size, stride, padding, dilation, ceil_mode)\n"
     ]
    },
    {
     "name": "stdout",
     "output_type": "stream",
     "text": [
      "\n"
     ]
    },
    {
     "name": "stderr",
     "output_type": "stream",
     "text": [
      "Using cache found in /home/hyunsikkim/.cache/torch/hub/pytorch_vision_v0.10.0\n"
     ]
    },
    {
     "data": {
      "application/vnd.jupyter.widget-view+json": {
       "model_id": "33ca9103447347d8a469ae7649088a82",
       "version_major": 2,
       "version_minor": 0
      },
      "text/plain": [
       "HBox(children=(HTML(value=''), FloatProgress(value=0.0, max=313.0), HTML(value='')))"
      ]
     },
     "metadata": {},
     "output_type": "display_data"
    },
    {
     "name": "stdout",
     "output_type": "stream",
     "text": [
      "\n"
     ]
    },
    {
     "name": "stderr",
     "output_type": "stream",
     "text": [
      "Using cache found in /home/hyunsikkim/.cache/torch/hub/pytorch_vision_v0.10.0\n"
     ]
    },
    {
     "data": {
      "application/vnd.jupyter.widget-view+json": {
       "model_id": "5eaac9dee77e486daec8ea13c9f5e260",
       "version_major": 2,
       "version_minor": 0
      },
      "text/plain": [
       "HBox(children=(HTML(value=''), FloatProgress(value=0.0, max=313.0), HTML(value='')))"
      ]
     },
     "metadata": {},
     "output_type": "display_data"
    },
    {
     "name": "stdout",
     "output_type": "stream",
     "text": [
      "\n"
     ]
    },
    {
     "name": "stderr",
     "output_type": "stream",
     "text": [
      "Using cache found in /home/hyunsikkim/.cache/torch/hub/pytorch_vision_v0.10.0\n"
     ]
    },
    {
     "data": {
      "application/vnd.jupyter.widget-view+json": {
       "model_id": "8ca374d70b2e477e99b4b7309cc251c1",
       "version_major": 2,
       "version_minor": 0
      },
      "text/plain": [
       "HBox(children=(HTML(value=''), FloatProgress(value=0.0, max=313.0), HTML(value='')))"
      ]
     },
     "metadata": {},
     "output_type": "display_data"
    },
    {
     "name": "stdout",
     "output_type": "stream",
     "text": [
      "\n"
     ]
    },
    {
     "name": "stderr",
     "output_type": "stream",
     "text": [
      "Using cache found in /home/hyunsikkim/.cache/torch/hub/pytorch_vision_v0.10.0\n"
     ]
    },
    {
     "data": {
      "application/vnd.jupyter.widget-view+json": {
       "model_id": "fb82abd9105c499b9dcacd211853b0a4",
       "version_major": 2,
       "version_minor": 0
      },
      "text/plain": [
       "HBox(children=(HTML(value=''), FloatProgress(value=0.0, max=313.0), HTML(value='')))"
      ]
     },
     "metadata": {},
     "output_type": "display_data"
    },
    {
     "name": "stdout",
     "output_type": "stream",
     "text": [
      "\n"
     ]
    },
    {
     "name": "stderr",
     "output_type": "stream",
     "text": [
      "Using cache found in /home/hyunsikkim/.cache/torch/hub/pytorch_vision_v0.10.0\n"
     ]
    },
    {
     "data": {
      "application/vnd.jupyter.widget-view+json": {
       "model_id": "f011000456fc400091a4a52ee786b6af",
       "version_major": 2,
       "version_minor": 0
      },
      "text/plain": [
       "HBox(children=(HTML(value=''), FloatProgress(value=0.0, max=313.0), HTML(value='')))"
      ]
     },
     "metadata": {},
     "output_type": "display_data"
    },
    {
     "name": "stdout",
     "output_type": "stream",
     "text": [
      "\n"
     ]
    },
    {
     "name": "stderr",
     "output_type": "stream",
     "text": [
      "Using cache found in /home/hyunsikkim/.cache/torch/hub/pytorch_vision_v0.10.0\n"
     ]
    },
    {
     "data": {
      "application/vnd.jupyter.widget-view+json": {
       "model_id": "90fef68c6b1e41a1b62785ae6928b91a",
       "version_major": 2,
       "version_minor": 0
      },
      "text/plain": [
       "HBox(children=(HTML(value=''), FloatProgress(value=0.0, max=313.0), HTML(value='')))"
      ]
     },
     "metadata": {},
     "output_type": "display_data"
    },
    {
     "name": "stdout",
     "output_type": "stream",
     "text": [
      "\n"
     ]
    }
   ],
   "source": [
    "container = defaultdict(list)\n",
    "\n",
    "for modelname, path in data : \n",
    "    model = load_model(modelname, path)\n",
    "    test_loss, test_acc, test_umean, test_umax, test_qmean, test_qmax = inference(testloader, device, model, criterion)\n",
    "    container['log loss'].append(test_loss)\n",
    "    container['accuracy'].append(test_acc)\n",
    "    container['umean'].append(test_umean)\n",
    "    container['umax'].append(test_umax)\n",
    "    container['qmean'].append(test_qmean)\n",
    "    container['qmax'].append(test_qmax)"
   ]
  },
  {
   "cell_type": "code",
   "execution_count": 7,
   "metadata": {},
   "outputs": [],
   "source": [
    "def inference(testloader, device, model, criterion) : \n",
    "    prob_container, true_container = list(), list()\n",
    "    model.eval()\n",
    "    for inputs, labels in testloader :\n",
    "\n",
    "        inputs, labels = inputs.to(device), labels.to(device)\n",
    "\n",
    "        outputs = model(inputs)\n",
    "\n",
    "        predictions = outputs.argmax(1)\n",
    "        acc = (outputs.argmax(1).eq(labels).sum() / outputs.shape[0]).item()\n",
    "\n",
    "        loss = criterion(outputs, labels)\n",
    "\n",
    "        prob, true = torch.softmax(outputs, dim=1).cpu().data.numpy(), labels.cpu().data.numpy()\n",
    "\n",
    "        prob_container.append(prob)\n",
    "        true_container.append(true)\n",
    "        \n",
    "    return np.concatenate(prob_container), np.concatenate(true_container)"
   ]
  },
  {
   "cell_type": "code",
   "execution_count": 8,
   "metadata": {},
   "outputs": [],
   "source": [
    "prob, true = inference(testloader, device, model, criterion)\n",
    "\n",
    "sigmoid_calibrator = pd.read_pickle('./sigmoid_calibrator.pickle')\n",
    "\n",
    "calibrated_prob = sigmoid_calibrator.predict_proba(prob)\n",
    "calibrated_perf = [\n",
    "    calibration.log_loss(true, calibrated_prob),\n",
    "    (calibrated_prob.argmax(1) == true).sum() / true.shape[0],\n",
    "    uniform_calib_mean.calculate_ce(calibrated_prob, true),\n",
    "    uniform_calib_max.calculate_ce(calibrated_prob, true),\n",
    "    quantile_calib_mean.calculate_ce(calibrated_prob, true),\n",
    "    quantile_calib_max.calculate_ce(calibrated_prob, true)]"
   ]
  },
  {
   "cell_type": "code",
   "execution_count": 9,
   "metadata": {},
   "outputs": [
    {
     "data": {
      "text/html": [
       "<div>\n",
       "<style scoped>\n",
       "    .dataframe tbody tr th:only-of-type {\n",
       "        vertical-align: middle;\n",
       "    }\n",
       "\n",
       "    .dataframe tbody tr th {\n",
       "        vertical-align: top;\n",
       "    }\n",
       "\n",
       "    .dataframe thead th {\n",
       "        text-align: right;\n",
       "    }\n",
       "</style>\n",
       "<table border=\"1\" class=\"dataframe\">\n",
       "  <thead>\n",
       "    <tr style=\"text-align: right;\">\n",
       "      <th></th>\n",
       "      <th>resnet18_focal</th>\n",
       "      <th>resnet152</th>\n",
       "      <th>resnet18_mixup</th>\n",
       "      <th>resnet18_label_smoothing</th>\n",
       "      <th>resnet18_erl</th>\n",
       "      <th>resnet18_ls</th>\n",
       "      <th>resnet18</th>\n",
       "      <th>resnet18_sigmoid_scaling</th>\n",
       "    </tr>\n",
       "  </thead>\n",
       "  <tbody>\n",
       "    <tr>\n",
       "      <th>log loss</th>\n",
       "      <td>0.538523</td>\n",
       "      <td>0.605172</td>\n",
       "      <td>0.401981</td>\n",
       "      <td>0.616175</td>\n",
       "      <td>0.560470</td>\n",
       "      <td>0.594764</td>\n",
       "      <td>0.614018</td>\n",
       "      <td>0.627382</td>\n",
       "    </tr>\n",
       "    <tr>\n",
       "      <th>accuracy</th>\n",
       "      <td>0.834165</td>\n",
       "      <td>0.790635</td>\n",
       "      <td>0.888079</td>\n",
       "      <td>0.815196</td>\n",
       "      <td>0.822584</td>\n",
       "      <td>0.872105</td>\n",
       "      <td>0.813199</td>\n",
       "      <td>0.819500</td>\n",
       "    </tr>\n",
       "    <tr>\n",
       "      <th>umean</th>\n",
       "      <td>0.204310</td>\n",
       "      <td>0.201665</td>\n",
       "      <td>0.142814</td>\n",
       "      <td>0.206545</td>\n",
       "      <td>0.183276</td>\n",
       "      <td>0.186663</td>\n",
       "      <td>0.207988</td>\n",
       "      <td>0.102282</td>\n",
       "    </tr>\n",
       "    <tr>\n",
       "      <th>umax</th>\n",
       "      <td>0.468148</td>\n",
       "      <td>0.482278</td>\n",
       "      <td>0.338602</td>\n",
       "      <td>0.462192</td>\n",
       "      <td>0.444875</td>\n",
       "      <td>0.363929</td>\n",
       "      <td>0.459594</td>\n",
       "      <td>0.251964</td>\n",
       "    </tr>\n",
       "    <tr>\n",
       "      <th>qmean</th>\n",
       "      <td>0.034004</td>\n",
       "      <td>0.035752</td>\n",
       "      <td>0.024827</td>\n",
       "      <td>0.041809</td>\n",
       "      <td>0.028831</td>\n",
       "      <td>0.046049</td>\n",
       "      <td>0.042499</td>\n",
       "      <td>0.010542</td>\n",
       "    </tr>\n",
       "    <tr>\n",
       "      <th>qmax</th>\n",
       "      <td>0.198920</td>\n",
       "      <td>0.216736</td>\n",
       "      <td>0.150018</td>\n",
       "      <td>0.214721</td>\n",
       "      <td>0.197265</td>\n",
       "      <td>0.195764</td>\n",
       "      <td>0.209470</td>\n",
       "      <td>0.059785</td>\n",
       "    </tr>\n",
       "  </tbody>\n",
       "</table>\n",
       "</div>"
      ],
      "text/plain": [
       "          resnet18_focal  resnet152  resnet18_mixup  resnet18_label_smoothing  \\\n",
       "log loss        0.538523   0.605172        0.401981                  0.616175   \n",
       "accuracy        0.834165   0.790635        0.888079                  0.815196   \n",
       "umean           0.204310   0.201665        0.142814                  0.206545   \n",
       "umax            0.468148   0.482278        0.338602                  0.462192   \n",
       "qmean           0.034004   0.035752        0.024827                  0.041809   \n",
       "qmax            0.198920   0.216736        0.150018                  0.214721   \n",
       "\n",
       "          resnet18_erl  resnet18_ls  resnet18  resnet18_sigmoid_scaling  \n",
       "log loss      0.560470     0.594764  0.614018                  0.627382  \n",
       "accuracy      0.822584     0.872105  0.813199                  0.819500  \n",
       "umean         0.183276     0.186663  0.207988                  0.102282  \n",
       "umax          0.444875     0.363929  0.459594                  0.251964  \n",
       "qmean         0.028831     0.046049  0.042499                  0.010542  \n",
       "qmax          0.197265     0.195764  0.209470                  0.059785  "
      ]
     },
     "execution_count": 9,
     "metadata": {},
     "output_type": "execute_result"
    }
   ],
   "source": [
    "colname = list(map(lambda x : os.path.splitext(os.path.basename(x[1]))[0].split(\".\")[0], data))\n",
    "df = pd.DataFrame.from_dict(container, orient='index', columns=colname)\n",
    "df['resnet18_sigmoid_scaling'] = calibrated_perf\n",
    "df"
   ]
  },
  {
   "cell_type": "code",
   "execution_count": 10,
   "metadata": {},
   "outputs": [
    {
     "data": {
      "text/plain": [
       "<matplotlib.legend.Legend at 0x7f772f19f430>"
      ]
     },
     "execution_count": 10,
     "metadata": {},
     "output_type": "execute_result"
    },
    {
     "data": {
      "image/png": "[encoded data removed]",
      "text/plain": [
       "<Figure size 720x432 with 1 Axes>"
      ]
     },
     "metadata": {},
     "output_type": "display_data"
    }
   ],
   "source": [
    "df.T.plot.bar(figsize=(10,6))\n",
    "plt.legend(bbox_to_anchor=(1.1, 1.05))"
   ]
  },
  {
   "cell_type": "code",
   "execution_count": 11,
   "metadata": {},
   "outputs": [
    {
     "data": {
      "text/plain": [
       "{'log loss': 'resnet18_mixup',\n",
       " 'umean': 'resnet18_sigmoid_scaling',\n",
       " 'umax': 'resnet18_sigmoid_scaling',\n",
       " 'qmean': 'resnet18_sigmoid_scaling',\n",
       " 'qmax': 'resnet18_sigmoid_scaling'}"
      ]
     },
     "execution_count": 11,
     "metadata": {},
     "output_type": "execute_result"
    }
   ],
   "source": [
    "best_performer = dict(zip(df.index, df.columns[np.argmin(df.values, axis=1)]))\n",
    "del best_performer['accuracy']\n",
    "best_performer"
   ]
  },
  {
   "cell_type": "code",
   "execution_count": 12,
   "metadata": {},
   "outputs": [
    {
     "data": {
      "text/plain": [
       "{'log loss': 'resnet18_sigmoid_scaling',\n",
       " 'umean': 'resnet18',\n",
       " 'umax': 'resnet152',\n",
       " 'qmean': 'resnet18_ls',\n",
       " 'qmax': 'resnet152'}"
      ]
     },
     "execution_count": 12,
     "metadata": {},
     "output_type": "execute_result"
    }
   ],
   "source": [
    "worst_performer = dict(zip(df.index, df.columns[np.argmax(df.values, axis=1)]))\n",
    "del worst_performer['accuracy']\n",
    "worst_performer"
   ]
  }
 ],
 "metadata": {
  "kernelspec": {
   "display_name": "Python 3",
   "language": "python",
   "name": "python3"
  },
  "language_info": {
   "codemirror_mode": {
    "name": "ipython",
    "version": 3
   },
   "file_extension": ".py",
   "mimetype": "text/x-python",
   "name": "python",
   "nbconvert_exporter": "python",
   "pygments_lexer": "ipython3",
   "version": "3.8.5"
  }
 },
 "nbformat": 4,
 "nbformat_minor": 4
}

{
 "cells": [
  {
   "cell_type": "markdown",
   "metadata": {},
   "source": [
    "I'll follow classification process with https://pytorch.org/tutorials/beginner/text_sentiment_ngrams_tutorial.html"
   ]
  },
  {
   "cell_type": "code",
   "execution_count": 1,
   "metadata": {},
   "outputs": [],
   "source": [
    "import time\n",
    "import numpy as np\n",
    "\n",
    "import torch\n",
    "from torch import nn\n",
    "from torchtext.datasets import AG_NEWS\n",
    "from torchtext.data.utils import get_tokenizer\n",
    "from torchtext.vocab import build_vocab_from_iterator\n",
    "from torch.utils.data import DataLoader, Dataset\n",
    "from torch.utils.data.dataset import random_split\n",
    "from torchtext.data.functional import to_map_style_dataset"
   ]
  },
  {
   "cell_type": "markdown",
   "metadata": {},
   "source": [
    "_____"
   ]
  },
  {
   "cell_type": "code",
   "execution_count": 2,
   "metadata": {},
   "outputs": [],
   "source": [
    "def yield_tokens(data_iter):\n",
    "    for _, text in data_iter:\n",
    "        yield tokenizer(text)\n",
    "        \n",
    "def collate_batch(batch):\n",
    "    label_list, text_list, offsets = [], [], [0]\n",
    "    for (_label, _text) in batch:\n",
    "         label_list.append(label_pipeline(_label))\n",
    "         processed_text = torch.tensor(text_pipeline(_text), dtype=torch.int64)\n",
    "         text_list.append(processed_text)\n",
    "         offsets.append(processed_text.size(0))\n",
    "    label_list = torch.tensor(label_list, dtype=torch.int64)\n",
    "    offsets = torch.tensor(offsets[:-1]).cumsum(dim=0)\n",
    "    text_list = torch.cat(text_list)\n",
    "    return label_list.to(device), text_list.to(device), offsets.to(device)\n",
    "\n",
    "text_pipeline = lambda x: vocab(tokenizer(x))\n",
    "label_pipeline = lambda x: int(x)"
   ]
  },
  {
   "cell_type": "code",
   "execution_count": 3,
   "metadata": {},
   "outputs": [],
   "source": [
    "class TextClassificationModel(nn.Module):\n",
    "\n",
    "    def __init__(self, vocab_size, embed_dim, num_class):\n",
    "        super(TextClassificationModel, self).__init__()\n",
    "        self.embedding = nn.EmbeddingBag(vocab_size, embed_dim, sparse=True) # embedding + averaging\n",
    "        self.fc = nn.Linear(embed_dim, num_class)\n",
    "        self.init_weights()\n",
    "\n",
    "    def init_weights(self):\n",
    "        initrange = 0.5\n",
    "        self.embedding.weight.data.uniform_(-initrange, initrange)\n",
    "        self.fc.weight.data.uniform_(-initrange, initrange)\n",
    "        self.fc.bias.data.zero_()\n",
    "\n",
    "    def forward(self, text, offsets):\n",
    "        embedded = self.embedding(text, offsets)\n",
    "        return self.fc(embedded)\n",
    "    \n",
    "class Identity(nn.Module):\n",
    "    def __init__(self):\n",
    "        super().__init__()\n",
    "\n",
    "    def forward(self, x):\n",
    "        return x"
   ]
  },
  {
   "cell_type": "code",
   "execution_count": 4,
   "metadata": {},
   "outputs": [],
   "source": [
    "def train(dataloader):\n",
    "    model.train()\n",
    "    total_acc, total_count = 0, 0\n",
    "    log_interval = 500\n",
    "    start_time = time.time()\n",
    "\n",
    "    for idx, (label, text, offsets) in enumerate(dataloader):\n",
    "        optimizer.zero_grad()\n",
    "        predited_label = model(text, offsets)\n",
    "        loss = criterion(predited_label, label)\n",
    "        loss.backward()\n",
    "        torch.nn.utils.clip_grad_norm_(model.parameters(), 0.1)\n",
    "        optimizer.step()\n",
    "        total_acc += (predited_label.argmax(1) == label).sum().item()\n",
    "        total_count += label.size(0)\n",
    "        if idx % log_interval == 0 and idx > 0:\n",
    "            elapsed = time.time() - start_time\n",
    "            print('| epoch {:3d} | {:5d}/{:5d} batches '\n",
    "                  '| accuracy {:8.3f}'.format(epoch, idx, len(dataloader),\n",
    "                                              total_acc/total_count))\n",
    "            total_acc, total_count = 0, 0\n",
    "            start_time = time.time()\n",
    "\n",
    "def evaluate(dataloader):\n",
    "    model.eval()\n",
    "    total_acc, total_count = 0, 0\n",
    "\n",
    "    with torch.no_grad():\n",
    "        for idx, (label, text, offsets) in enumerate(dataloader):\n",
    "            predited_label = model(text, offsets)\n",
    "            loss = criterion(predited_label, label)\n",
    "            total_acc += (predited_label.argmax(1) == label).sum().item()\n",
    "            total_count += label.size(0)\n",
    "    return total_acc/total_count"
   ]
  },
  {
   "cell_type": "markdown",
   "metadata": {},
   "source": [
    "_____"
   ]
  },
  {
   "cell_type": "code",
   "execution_count": 5,
   "metadata": {},
   "outputs": [],
   "source": [
    "import pandas as pd"
   ]
  },
  {
   "cell_type": "code",
   "execution_count": 6,
   "metadata": {},
   "outputs": [],
   "source": [
    "train_df = pd.read_csv('.data/DBpedia/train.csv')\n",
    "test_df = pd.read_csv('.data/DBpedia/test.csv')\n",
    "valid_df = pd.read_csv('.data/DBpedia/valid.csv')"
   ]
  },
  {
   "cell_type": "code",
   "execution_count": 7,
   "metadata": {},
   "outputs": [],
   "source": [
    "label_dict = {v:k for k,v in enumerate(train_df['l3'].unique())}"
   ]
  },
  {
   "cell_type": "code",
   "execution_count": 8,
   "metadata": {},
   "outputs": [],
   "source": [
    "train_iter = list(zip(train_df['l3'].map(lambda x : label_dict[x]).tolist(), train_df['text'].tolist()))\n",
    "valid_iter = list(zip(valid_df['l3'].map(lambda x : label_dict[x]).tolist(), valid_df['text'].tolist()))\n",
    "test_iter = list(zip(test_df['l3'].map(lambda x : label_dict[x]).tolist(), test_df['text'].tolist()))"
   ]
  },
  {
   "cell_type": "markdown",
   "metadata": {},
   "source": [
    "____"
   ]
  },
  {
   "cell_type": "code",
   "execution_count": 9,
   "metadata": {},
   "outputs": [
    {
     "name": "stdout",
     "output_type": "stream",
     "text": [
      "cuda:1\n"
     ]
    }
   ],
   "source": [
    "tokenizer = get_tokenizer('basic_english')\n",
    "device = torch.device(\"cuda:1\" if torch.cuda.is_available() else \"cpu\"); print(device)\n",
    "\n",
    "# set vocab size\n",
    "vocab = build_vocab_from_iterator(yield_tokens(train_iter), specials=[\"<unk>\", \"<pad>\"])\n",
    "vocab.set_default_index(vocab[\"<unk>\"])"
   ]
  },
  {
   "cell_type": "code",
   "execution_count": 10,
   "metadata": {
    "scrolled": true
   },
   "outputs": [
    {
     "name": "stdout",
     "output_type": "stream",
     "text": [
      "219\n",
      "628321\n"
     ]
    }
   ],
   "source": [
    "# load nn.Module object\n",
    "num_class = len(set([label for (label, text) in train_iter])); print(num_class)\n",
    "vocab_size = len(vocab); print(vocab_size)\n",
    "emsize = 32\n",
    "model = TextClassificationModel(vocab_size, emsize, num_class).to(device)"
   ]
  },
  {
   "cell_type": "code",
   "execution_count": 11,
   "metadata": {
    "scrolled": true
   },
   "outputs": [],
   "source": [
    "EPOCHS = 10 # epoch\n",
    "LR = 5  # learning rate\n",
    "BATCH_SIZE = 64 # batch size for training\n",
    "\n",
    "criterion = torch.nn.CrossEntropyLoss()\n",
    "optimizer = torch.optim.SGD(model.parameters(), lr=LR)\n",
    "scheduler = torch.optim.lr_scheduler.StepLR(optimizer, 1.0, gamma=0.1)\n",
    "total_accu = None"
   ]
  },
  {
   "cell_type": "code",
   "execution_count": 12,
   "metadata": {},
   "outputs": [],
   "source": [
    "class TemporalDataset(Dataset):\n",
    "    def __init__(self, mem, transform=None):\n",
    "        self._data = mem\n",
    "\n",
    "    def __len__(self):\n",
    "        return len(self._data)\n",
    "\n",
    "    def __getitem__(self, idx):\n",
    "        return self._data[idx]"
   ]
  },
  {
   "cell_type": "code",
   "execution_count": 13,
   "metadata": {},
   "outputs": [],
   "source": [
    "train_dataset = TemporalDataset(train_iter)\n",
    "valid_dataset = TemporalDataset(valid_iter)\n",
    "test_dataset = TemporalDataset(test_iter)"
   ]
  },
  {
   "cell_type": "code",
   "execution_count": 14,
   "metadata": {},
   "outputs": [],
   "source": [
    "train_dataloader = DataLoader(train_dataset, batch_size=BATCH_SIZE,\n",
    "                              shuffle=True, collate_fn=collate_batch)\n",
    "valid_dataloader = DataLoader(valid_dataset, batch_size=BATCH_SIZE,\n",
    "                              shuffle=True, collate_fn=collate_batch)\n",
    "test_dataloader = DataLoader(test_dataset, batch_size=BATCH_SIZE,\n",
    "                             shuffle=True, collate_fn=collate_batch)"
   ]
  },
  {
   "cell_type": "markdown",
   "metadata": {},
   "source": [
    "### generate out of distribution"
   ]
  },
  {
   "cell_type": "code",
   "execution_count": 15,
   "metadata": {},
   "outputs": [],
   "source": [
    "out_train_data, out_test_data = AG_NEWS()\n",
    "out_train_dataset = to_map_style_dataset(out_train_data)\n",
    "out_test_dataset = to_map_style_dataset(out_test_data)\n",
    "out_train_dataloader = DataLoader(out_train_dataset, batch_size=BATCH_SIZE, shuffle=True, collate_fn=collate_batch)\n",
    "out_test_dataloader = DataLoader(out_test_dataset, batch_size=BATCH_SIZE, shuffle=True, collate_fn=collate_batch)"
   ]
  },
  {
   "cell_type": "code",
   "execution_count": 16,
   "metadata": {},
   "outputs": [],
   "source": [
    "label_dict = {1 : 'World',\n",
    "2 : 'Sports',\n",
    "3 : 'Business',\n",
    "4 : \"Sci/Tec\"}"
   ]
  },
  {
   "cell_type": "markdown",
   "metadata": {},
   "source": [
    "____"
   ]
  },
  {
   "cell_type": "code",
   "execution_count": 17,
   "metadata": {},
   "outputs": [],
   "source": [
    "EPOCHS = 10"
   ]
  },
  {
   "cell_type": "code",
   "execution_count": null,
   "metadata": {},
   "outputs": [],
   "source": [
    "for epoch in range(1, EPOCHS + 1):\n",
    "    epoch_start_time = time.time()\n",
    "    train(train_dataloader)\n",
    "    accu_val = evaluate(valid_dataloader)\n",
    "    if total_accu is not None and total_accu > accu_val:\n",
    "      scheduler.step()\n",
    "    else:\n",
    "       total_accu = accu_val\n",
    "    print('-' * 59)\n",
    "    print('| end of epoch {:3d} | time: {:5.2f}s | '\n",
    "          'valid accuracy {:8.3f} '.format(epoch,\n",
    "                                           time.time() - epoch_start_time,\n",
    "                                           accu_val))\n",
    "    print('-' * 59)"
   ]
  },
  {
   "cell_type": "markdown",
   "metadata": {},
   "source": [
    "____"
   ]
  },
  {
   "cell_type": "markdown",
   "metadata": {},
   "source": [
    "# Fine-tuning"
   ]
  },
  {
   "cell_type": "code",
   "execution_count": 19,
   "metadata": {},
   "outputs": [],
   "source": [
    "from cycler import cycler\n",
    "from sklearn.manifold import TSNE\n",
    "import matplotlib.pyplot as plt\n",
    "import numpy as np\n",
    "\n",
    "%matplotlib inline"
   ]
  },
  {
   "cell_type": "code",
   "execution_count": 20,
   "metadata": {},
   "outputs": [],
   "source": [
    "model.fc = Identity()"
   ]
  },
  {
   "cell_type": "code",
   "execution_count": 21,
   "metadata": {},
   "outputs": [],
   "source": [
    "class FineTuningModel(nn.Module):\n",
    "\n",
    "    def __init__(self,\n",
    "                 n_embed=10000,\n",
    "                 d_embed=32,\n",
    "                 d_hidden1=64,\n",
    "                 d_hidden2=4,\n",
    "                 d_out=2,\n",
    "                 dp=0.2,\n",
    "                 pretrained=None):\n",
    "        super(FineTuningModel, self).__init__()\n",
    "        \n",
    "        self.embed = pretrained\n",
    "        self.dropout1 = nn.Dropout(dp)\n",
    "        self.bn1 = nn.BatchNorm1d(d_embed)\n",
    "        self.fc1 = nn.Linear(d_embed, d_hidden1)\n",
    "        self.dropout2 = nn.Dropout(dp)\n",
    "        self.bn2 = nn.BatchNorm1d(d_hidden1)\n",
    "        self.fc2 = nn.Linear(d_hidden1, d_hidden2)\n",
    "\n",
    "    def forward(self, text, offsets):\n",
    "        x = self.embed(text, offsets)\n",
    "\n",
    "        x = self.dropout1(x)\n",
    "        x = self.bn1(x)\n",
    "        x = self.fc1(x)\n",
    "        x = self.dropout2(x)\n",
    "        x = self.bn2(x)\n",
    "        x = torch.tanh(self.fc2(x))\n",
    "\n",
    "        return x"
   ]
  },
  {
   "cell_type": "code",
   "execution_count": 22,
   "metadata": {},
   "outputs": [],
   "source": [
    "fine_tuning_model = FineTuningModel(pretrained=model).to(device)"
   ]
  },
  {
   "cell_type": "code",
   "execution_count": 23,
   "metadata": {},
   "outputs": [],
   "source": [
    "EPOCHS = 10 # epoch\n",
    "LR = 5  # learning rate\n",
    "BATCH_SIZE = 64 # batch size for training\n",
    "\n",
    "criterion = torch.nn.CrossEntropyLoss()\n",
    "optimizer = torch.optim.SGD(fine_tuning_model.parameters(), lr=LR)\n",
    "scheduler = torch.optim.lr_scheduler.StepLR(optimizer, 1.0, gamma=0.1)\n",
    "total_accu = None"
   ]
  },
  {
   "cell_type": "code",
   "execution_count": 24,
   "metadata": {},
   "outputs": [],
   "source": [
    "def fine_tune(dataloader):\n",
    "    fine_tuning_model.train()\n",
    "    total_acc, total_count = 0, 0\n",
    "    log_interval = 500\n",
    "    start_time = time.time()\n",
    "\n",
    "    for idx, (label, text, offsets) in enumerate(dataloader):\n",
    "        label = label - 1\n",
    "        optimizer.zero_grad()\n",
    "        predited_label = fine_tuning_model(text, offsets)\n",
    "        loss = criterion(predited_label, label)\n",
    "        loss.backward()\n",
    "        torch.nn.utils.clip_grad_norm_(fine_tuning_model.parameters(), 0.1)\n",
    "        optimizer.step()\n",
    "        total_acc += (predited_label.argmax(1) == label).sum().item()\n",
    "        total_count += label.size(0)\n",
    "        if idx % log_interval == 0 and idx > 0:\n",
    "            elapsed = time.time() - start_time\n",
    "            print('| epoch {:3d} | {:5d}/{:5d} batches '\n",
    "                  '| accuracy {:8.3f}'.format(epoch, idx, len(dataloader),\n",
    "                                              total_acc/total_count))\n",
    "            total_acc, total_count = 0, 0\n",
    "            start_time = time.time()\n",
    "\n",
    "def evaluate(dataloader):\n",
    "    fine_tuning_model.eval()\n",
    "    total_acc, total_count = 0, 0\n",
    "\n",
    "    with torch.no_grad():\n",
    "        for idx, (label, text, offsets) in enumerate(dataloader):\n",
    "            label = label - 1\n",
    "            predited_label = fine_tuning_model(text, offsets)\n",
    "            loss = criterion(predited_label, label)\n",
    "            total_acc += (predited_label.argmax(1) == label).sum().item()\n",
    "            total_count += label.size(0)\n",
    "    return total_acc/total_count"
   ]
  },
  {
   "cell_type": "code",
   "execution_count": 25,
   "metadata": {
    "scrolled": true
   },
   "outputs": [
    {
     "name": "stdout",
     "output_type": "stream",
     "text": [
      "| epoch   1 |   500/ 1875 batches | accuracy    0.650\n",
      "| epoch   1 |  1000/ 1875 batches | accuracy    0.739\n",
      "| epoch   1 |  1500/ 1875 batches | accuracy    0.779\n",
      "-----------------------------------------------------------\n",
      "| end of epoch   1 | time: 18.60s | valid accuracy    0.835 \n",
      "-----------------------------------------------------------\n",
      "| epoch   2 |   500/ 1875 batches | accuracy    0.821\n",
      "| epoch   2 |  1000/ 1875 batches | accuracy    0.828\n",
      "| epoch   2 |  1500/ 1875 batches | accuracy    0.839\n",
      "-----------------------------------------------------------\n",
      "| end of epoch   2 | time: 18.75s | valid accuracy    0.854 \n",
      "-----------------------------------------------------------\n",
      "| epoch   3 |   500/ 1875 batches | accuracy    0.852\n",
      "| epoch   3 |  1000/ 1875 batches | accuracy    0.856\n",
      "| epoch   3 |  1500/ 1875 batches | accuracy    0.861\n",
      "-----------------------------------------------------------\n",
      "| end of epoch   3 | time: 16.53s | valid accuracy    0.879 \n",
      "-----------------------------------------------------------\n",
      "| epoch   4 |   500/ 1875 batches | accuracy    0.867\n",
      "| epoch   4 |  1000/ 1875 batches | accuracy    0.871\n",
      "| epoch   4 |  1500/ 1875 batches | accuracy    0.873\n",
      "-----------------------------------------------------------\n",
      "| end of epoch   4 | time: 18.23s | valid accuracy    0.889 \n",
      "-----------------------------------------------------------\n",
      "| epoch   5 |   500/ 1875 batches | accuracy    0.878\n",
      "| epoch   5 |  1000/ 1875 batches | accuracy    0.880\n",
      "| epoch   5 |  1500/ 1875 batches | accuracy    0.879\n",
      "-----------------------------------------------------------\n",
      "| end of epoch   5 | time: 17.73s | valid accuracy    0.889 \n",
      "-----------------------------------------------------------\n",
      "| epoch   6 |   500/ 1875 batches | accuracy    0.883\n",
      "| epoch   6 |  1000/ 1875 batches | accuracy    0.888\n",
      "| epoch   6 |  1500/ 1875 batches | accuracy    0.885\n",
      "-----------------------------------------------------------\n",
      "| end of epoch   6 | time: 18.14s | valid accuracy    0.893 \n",
      "-----------------------------------------------------------\n",
      "| epoch   7 |   500/ 1875 batches | accuracy    0.892\n",
      "| epoch   7 |  1000/ 1875 batches | accuracy    0.889\n",
      "| epoch   7 |  1500/ 1875 batches | accuracy    0.891\n",
      "-----------------------------------------------------------\n",
      "| end of epoch   7 | time: 18.40s | valid accuracy    0.894 \n",
      "-----------------------------------------------------------\n",
      "| epoch   8 |   500/ 1875 batches | accuracy    0.894\n",
      "| epoch   8 |  1000/ 1875 batches | accuracy    0.893\n",
      "| epoch   8 |  1500/ 1875 batches | accuracy    0.891\n",
      "-----------------------------------------------------------\n",
      "| end of epoch   8 | time: 16.93s | valid accuracy    0.893 \n",
      "-----------------------------------------------------------\n",
      "| epoch   9 |   500/ 1875 batches | accuracy    0.898\n",
      "| epoch   9 |  1000/ 1875 batches | accuracy    0.902\n",
      "| epoch   9 |  1500/ 1875 batches | accuracy    0.897\n",
      "-----------------------------------------------------------\n",
      "| end of epoch   9 | time: 16.81s | valid accuracy    0.900 \n",
      "-----------------------------------------------------------\n",
      "| epoch  10 |   500/ 1875 batches | accuracy    0.903\n",
      "| epoch  10 |  1000/ 1875 batches | accuracy    0.900\n",
      "| epoch  10 |  1500/ 1875 batches | accuracy    0.901\n",
      "-----------------------------------------------------------\n",
      "| end of epoch  10 | time: 17.82s | valid accuracy    0.900 \n",
      "-----------------------------------------------------------\n"
     ]
    }
   ],
   "source": [
    "for epoch in range(1, EPOCHS + 1):\n",
    "    epoch_start_time = time.time()\n",
    "    fine_tune(out_train_dataloader)\n",
    "    accu_val = evaluate(out_test_dataloader)\n",
    "    if total_accu is not None and total_accu > accu_val:\n",
    "      scheduler.step()\n",
    "    else:\n",
    "       total_accu = accu_val\n",
    "    print('-' * 59)\n",
    "    print('| end of epoch {:3d} | time: {:5.2f}s | '\n",
    "          'valid accuracy {:8.3f} '.format(epoch,\n",
    "                                           time.time() - epoch_start_time,\n",
    "                                           accu_val))\n",
    "    print('-' * 59)"
   ]
  }
 ],
 "metadata": {
  "kernelspec": {
   "display_name": "Python 3",
   "language": "python",
   "name": "python3"
  },
  "language_info": {
   "codemirror_mode": {
    "name": "ipython",
    "version": 3
   },
   "file_extension": ".py",
   "mimetype": "text/x-python",
   "name": "python",
   "nbconvert_exporter": "python",
   "pygments_lexer": "ipython3",
   "version": "3.8.5"
  }
 },
 "nbformat": 4,
 "nbformat_minor": 4
}
